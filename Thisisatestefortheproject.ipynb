install pandas as pd
import
hi everyone - mez
testing
